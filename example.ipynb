{
 "cells": [
  {
   "cell_type": "code",
   "execution_count": 2,
   "id": "869688b9-6e7f-446d-b735-1e7c6eee2923",
   "metadata": {},
   "outputs": [
    {
     "name": "stdout",
     "output_type": "stream",
     "text": [
      "Hello Deepnote from Mojo xD.\n"
     ]
    }
   ],
   "source": [
    "fn printHello():\n",
    "    var x: String = \"Hello Deepnote from Mojo xD.\"\n",
    "    print(x)\n",
    "\n",
    "printHello()"
   ]
  }
 ],
 "metadata": {
  "kernelspec": {
   "display_name": "Mojo",
   "language": "mojo",
   "name": "mojo-jupyter-kernel"
  },
  "language_info": {
   "codemirror_mode": {
    "name": "mojo"
   },
   "file_extension": ".mojo",
   "mimetype": "text/x-mojo",
   "name": "mojo"
  }
 },
 "nbformat": 4,
 "nbformat_minor": 5
}
