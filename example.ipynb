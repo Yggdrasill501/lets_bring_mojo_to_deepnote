{
 "cells": [
  {
   "cell_type": "code",
   "execution_count": 1,
   "id": "869688b9-6e7f-446d-b735-1e7c6eee2923",
   "metadata": {},
   "outputs": [],
   "source": [
    "fn main():\n",
    "    var x: String = \"Hello Deepnote from Mojo xD.\"\n",
    "    print(x)"
   ]
  }
 ],
 "metadata": {
  "kernelspec": {
   "display_name": "Mojo",
   "language": "mojo",
   "name": "mojo-jupyter-kernel"
  },
  "language_info": {
   "codemirror_mode": {
    "name": "mojo"
   },
   "file_extension": ".mojo",
   "mimetype": "text/x-mojo",
   "name": "mojo"
  }
 },
 "nbformat": 4,
 "nbformat_minor": 5
}
